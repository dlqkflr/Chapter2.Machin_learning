{
 "cells": [
  {
   "cell_type": "markdown",
   "metadata": {},
   "source": [
    "## Import Libraries"
   ]
  },
  {
   "cell_type": "code",
   "execution_count": 1,
   "metadata": {},
   "outputs": [],
   "source": [
    "import seaborn as sns\n",
    "import matplotlib.pyplot as plt\n",
    "%matplotlib inline"
   ]
  },
  {
   "cell_type": "markdown",
   "metadata": {},
   "source": [
    "## Create some Data"
   ]
  },
  {
   "cell_type": "code",
   "execution_count": 2,
   "metadata": {},
   "outputs": [],
   "source": [
    "from sklearn.datasets import make_blobs"
   ]
  },
  {
   "cell_type": "code",
   "execution_count": 5,
   "metadata": {},
   "outputs": [],
   "source": [
    "# Create Data\n",
    "data = make_blobs(n_samples = 200, n_features=5,\\\n",
    "                 centers=4, cluster_std =1.8, random_state=101)"
   ]
  },
  {
   "cell_type": "code",
   "execution_count": 18,
   "metadata": {},
   "outputs": [
    {
     "data": {
      "text/plain": [
       "array([[ -1.06041893,   1.61221108, -10.87888819,  -6.1131804 ,\n",
       "          4.87400558],\n",
       "       [  5.59211341,  -8.45546407,   7.81479304,   6.96381715,\n",
       "         -6.09147346],\n",
       "       [ -6.44190273,  -7.99353383,   5.1994571 ,   5.50338365,\n",
       "         -3.83254713],\n",
       "       [ -4.88784442,  -8.5523683 ,   4.50736254,   5.1451499 ,\n",
       "         -3.85381547],\n",
       "       [  1.89560518,   4.26781405,  -7.75713136,  -7.56114368,\n",
       "          5.40122059],\n",
       "       [  0.27188369,   4.9052299 , -11.23985192,  -7.90478834,\n",
       "          4.04236377],\n",
       "       [ -5.31834264, -11.90164782,   0.15689537,   5.81414064,\n",
       "         -3.50874636],\n",
       "       [  7.25692451,  -2.04749217,   8.46587217,   6.08782255,\n",
       "         -3.77277337],\n",
       "       [  2.02266907,  -5.0526247 ,   8.49164638,   4.93231196,\n",
       "         -5.55543153],\n",
       "       [  4.83203871,  -1.8227702 ,   6.2194627 ,   2.10709183,\n",
       "         -6.21719827],\n",
       "       [  6.37797424,  -4.66324662,   9.10683437,   9.44389464,\n",
       "         -3.45847009],\n",
       "       [  6.14219049,  -2.50033965,  11.03688073,   4.98355982,\n",
       "         -5.24735244],\n",
       "       [  4.35313072,  -2.05887165,  10.8764812 ,   7.0951431 ,\n",
       "         -2.4480123 ],\n",
       "       [  2.17724568,  -2.04559625,  -6.30610148,   5.52865235,\n",
       "         12.85199391],\n",
       "       [  6.19065364,  -7.70553902,  11.27810776,   3.17473142,\n",
       "         -5.55654879],\n",
       "       [  6.23226473,  -5.2982997 ,   7.53150437,   4.92916336,\n",
       "         -7.19758375],\n",
       "       [ -8.70663606,  -9.60693033,   2.29123511,   1.28280228,\n",
       "         -4.72595872],\n",
       "       [ -5.36133827,  -7.77316306,   3.42119631,   4.42305231,\n",
       "         -3.47614742],\n",
       "       [  2.10776368,   2.33825065, -11.10128417,  -5.04513986,\n",
       "          3.16835529],\n",
       "       [  4.97653348,  -2.73338514,  10.28317968,   3.78872832,\n",
       "         -4.87193295],\n",
       "       [  7.14086644,  -3.63372128,   8.71114106,   4.18641472,\n",
       "         -7.48042152],\n",
       "       [ -0.25942134,  -5.26294402,  -8.87366733,   5.25709886,\n",
       "         11.14308151],\n",
       "       [  0.10228711,  -0.28870689,  -5.77733594,  -8.45301197,\n",
       "          1.35387148],\n",
       "       [  2.8611814 ,   2.56860166, -11.05969529,  -7.2736488 ,\n",
       "          5.55646732],\n",
       "       [  2.73500025,   0.85639475,  -4.08822024,   6.67857191,\n",
       "          8.20711308],\n",
       "       [ -1.05070158,   3.14549024,  -7.80542892,  -7.53780336,\n",
       "          0.91613165],\n",
       "       [ -6.08011592,  -7.97150378,   3.23384741,   3.92986334,\n",
       "         -3.3022946 ],\n",
       "       [ -3.87655172,  -9.26710133,   2.93185761,   4.2313816 ,\n",
       "         -5.47416132],\n",
       "       [  0.92133589,   0.5185645 , -10.78784093,  -8.2676984 ,\n",
       "          4.5780926 ],\n",
       "       [  5.16221756,  -5.35676677,   6.98316723,   5.42590701,\n",
       "         -6.54414098],\n",
       "       [ -0.47562693,  -4.12512297,  -8.71711814,   4.47149198,\n",
       "         12.17422826],\n",
       "       [  0.47606421,  -2.25586385,  -5.78291842,   5.78657243,\n",
       "         10.67442128],\n",
       "       [ -3.22271663,  -0.14704133,  -8.13309779,  -8.77111454,\n",
       "          6.59774338],\n",
       "       [  0.83496848,  -3.53574469,  -6.695709  ,   6.14954754,\n",
       "          9.07309469],\n",
       "       [  2.2408513 ,   4.5669777 ,  -8.17853137,  -6.29297737,\n",
       "          4.00728847],\n",
       "       [ -0.29558075,   1.67799993, -10.29352194,  -5.56378194,\n",
       "          5.55019813],\n",
       "       [ -1.68030539,  -1.08032967, -11.82390358,  -6.49493898,\n",
       "          2.96563991],\n",
       "       [  3.37667382,  -1.65760294, -11.51693042,  -6.81228017,\n",
       "          4.40848975],\n",
       "       [  0.38869669,  -3.66149674,  -7.24259596,  10.86808996,\n",
       "          9.49485659],\n",
       "       [ -7.54521805,  -6.07352487,   3.69565169,   5.39358149,\n",
       "         -4.13177253],\n",
       "       [ -4.94264993,  -4.95263968,   5.16808828,   2.69079408,\n",
       "         -6.39273343],\n",
       "       [ -2.61129064,   2.8571846 , -12.43208168,  -5.47362375,\n",
       "          4.22119101],\n",
       "       [ -7.94585991, -11.4536237 ,  -0.93402592,   3.82708848,\n",
       "         -0.77262292],\n",
       "       [ -2.41222662,   3.45401712,  -8.47977935,  -5.86133751,\n",
       "          2.57062769],\n",
       "       [  1.78058284,  -1.50016484,  -5.53144756,   7.86283438,\n",
       "         11.28579644],\n",
       "       [ -6.31590908, -10.41817191,   5.90320256,   5.69416462,\n",
       "         -4.76745948],\n",
       "       [  6.71554819,  -4.4585243 ,   9.88762908,   6.71696618,\n",
       "         -8.67399425],\n",
       "       [  2.30384058,  -3.93268201, -10.772645  ,   3.76811381,\n",
       "          7.8805708 ],\n",
       "       [  4.54092835,   0.16961092,  -6.90764369,   4.10857076,\n",
       "          6.08271966],\n",
       "       [ -8.22818584,  -9.61437844,   2.26722369,  10.04725891,\n",
       "         -2.70894832],\n",
       "       [ -6.45320796, -12.34463802,   1.8451535 ,   6.52970857,\n",
       "         -3.18741125],\n",
       "       [  7.24185842,  -3.98402669,   7.53263139,   6.76191901,\n",
       "         -3.43519118],\n",
       "       [ -0.75099834,  -1.99551593,  -3.96939976,   7.32500245,\n",
       "          9.07568961],\n",
       "       [ -0.2014928 ,  -2.99330753,  -8.96818784,   3.46027849,\n",
       "          7.47831258],\n",
       "       [  6.15265826,  -1.71632701,   8.485403  ,   2.20957371,\n",
       "         -7.90316224],\n",
       "       [  3.24219163,  -6.14065543,   6.26903299,  -0.58026261,\n",
       "         -8.69597241],\n",
       "       [  9.24014356,  -7.0157598 ,   7.63661726,   7.22290364,\n",
       "         -3.9644535 ],\n",
       "       [  2.11460477,   3.55938488, -11.31471864,  -4.24259064,\n",
       "          1.0640144 ],\n",
       "       [ -6.98389752,  -4.80016835,   3.70608134,   7.54161117,\n",
       "         -1.14199583],\n",
       "       [  5.64636984,  -4.46358509,   9.97160988,   6.68259312,\n",
       "         -6.90702455],\n",
       "       [  3.46623106,   3.44738423,  -7.81448211,  -5.97400876,\n",
       "          1.79205163],\n",
       "       [ -6.31023601,  -6.81354968,   4.0670219 ,   4.14955973,\n",
       "         -3.06630424],\n",
       "       [ -6.83575473,  -8.18145337,   2.98846349,   4.43422962,\n",
       "         -4.32113528],\n",
       "       [ -0.16260654,  -3.0127232 ,  -4.28981062,   5.11175046,\n",
       "         13.12813107],\n",
       "       [ -5.7613629 ,  -5.98034686,   4.51688877,   5.81049466,\n",
       "         -5.4458181 ],\n",
       "       [  3.0357392 ,  -2.66560558,  -7.2733397 ,   7.39184592,\n",
       "          9.96674657],\n",
       "       [ -1.10919778,   2.77077032, -10.82018863,  -6.63154382,\n",
       "          4.9446748 ],\n",
       "       [ -0.56139909,   1.12078921,  -8.55605974,  -5.86308702,\n",
       "          4.10422287],\n",
       "       [  0.9740655 ,  -0.5314969 ,  -7.80619951,  -6.27836074,\n",
       "          5.20499242],\n",
       "       [ -5.48753322,  -9.02097975,   2.85862742,   3.66355324,\n",
       "         -4.32512962],\n",
       "       [  4.43990483,  -4.52070176,   8.93306707,   9.14627896,\n",
       "         -8.11745276],\n",
       "       [ -1.33860111,   4.76650719, -11.47138636,  -5.47070664,\n",
       "          4.4003942 ],\n",
       "       [  2.92715569,  -4.08054031,  -8.92943363,   7.0767004 ,\n",
       "         10.37415841],\n",
       "       [ -4.81906759,  -8.50911515,   5.13706474,   5.5338702 ,\n",
       "         -6.16786169],\n",
       "       [  3.87048773,  -1.02970067,  -6.4717986 ,   6.5608245 ,\n",
       "         11.02055271],\n",
       "       [  0.56377875,  -3.25016514,  -7.50425435,   8.99459446,\n",
       "          5.86887724],\n",
       "       [  0.74407296,  -3.79384986,  -5.45489725,   8.75145366,\n",
       "          7.37292499],\n",
       "       [  6.42515996,  -3.64621467,   9.07054785,   5.16453284,\n",
       "         -4.74710398],\n",
       "       [  5.88750681,  -6.56254983,   9.77730406,   7.76981813,\n",
       "         -5.29717031],\n",
       "       [ -1.42765628,  -0.48537934,  -5.53275746,  -8.85059919,\n",
       "          2.26042193],\n",
       "       [ -2.92262317,  -4.36094152,  -7.09459703,   6.80964975,\n",
       "          8.3357436 ],\n",
       "       [  4.76751929,  -4.55834375,  -5.17506048,   2.60711824,\n",
       "          8.67098043],\n",
       "       [  6.88418283,  -4.5239531 ,   8.69907912,   5.48480006,\n",
       "         -6.52864756],\n",
       "       [  2.04548727,   1.5487267 ,  -4.56384596,   6.5839472 ,\n",
       "          9.51028597],\n",
       "       [  3.04974818,  -2.03694201,  -6.10183813,   8.89827751,\n",
       "          8.42228819],\n",
       "       [ -0.63047439,   5.22526103,  -9.0749723 ,  -2.4241898 ,\n",
       "          5.01778235],\n",
       "       [  6.41652092,  -3.83634067,   3.99058382,   3.54002579,\n",
       "         -6.07203497],\n",
       "       [ -4.54835186,  -6.59838581,   4.43647849,   7.62303817,\n",
       "         -3.13614612],\n",
       "       [ -0.41126906,  -5.8502837 ,  -9.02497752,   3.93383593,\n",
       "          8.43984384],\n",
       "       [  0.68221166,  -0.63260853,  -9.42985581,  -4.7227954 ,\n",
       "          3.42366341],\n",
       "       [ -2.95875336,  -7.09899107,   2.05479983,   5.35330267,\n",
       "         -3.2828899 ],\n",
       "       [  1.75230125,  -5.63395075,   7.59276524,   2.60706681,\n",
       "         -8.15860552],\n",
       "       [  3.23559729,  -4.24440676,  -4.30515666,   6.93408428,\n",
       "         13.22672268],\n",
       "       [  3.90163035,  -5.33867284,   4.99375441,   0.70697179,\n",
       "         -3.4836763 ],\n",
       "       [  2.02350956,  -5.37303978,  -7.58960959,   3.18443971,\n",
       "          8.35602382],\n",
       "       [ -5.11169154,  -6.4566869 ,   1.71041154,   1.77146588,\n",
       "         -4.38461867],\n",
       "       [  3.26777971,  -7.73051573,   7.03209405,   5.22342857,\n",
       "         -5.15566538],\n",
       "       [  1.06499986,  -7.16437104,  -2.72503654,   5.77263826,\n",
       "          9.08498665],\n",
       "       [ -4.05213037,  -8.09881809,   0.78227905,   3.97217651,\n",
       "         -5.89165261],\n",
       "       [  4.23189331,  -4.22098983,  -6.0184844 ,   5.55571229,\n",
       "          8.67846895],\n",
       "       [ -1.56157748,  -1.10975961,  -2.32496144,   6.21045155,\n",
       "          7.93252729],\n",
       "       [  3.70252573,  -1.82690497,  -5.19887486,   5.02881903,\n",
       "         11.49623682],\n",
       "       [ -5.38921068,  -6.44023267,   1.9275882 ,   5.22069947,\n",
       "         -6.32019308],\n",
       "       [  0.08062411,  -0.85583527,  -5.89283259,   2.493025  ,\n",
       "         12.10408946],\n",
       "       [  0.58631679,  -3.96982246,  -5.09578789,   4.34823417,\n",
       "          9.74104826],\n",
       "       [  0.6284009 ,   1.74545508,  -7.97664482,  -6.43823946,\n",
       "          4.85535626],\n",
       "       [  3.67506762,  -3.58609243,  -8.29345799,   5.07633929,\n",
       "         10.35559101],\n",
       "       [ -7.99895009,  -7.06533412,   4.86137515,   8.46057115,\n",
       "         -4.15584506],\n",
       "       [ -2.59045353,   2.63291494,  -9.38352561,  -9.59047746,\n",
       "          4.30669122],\n",
       "       [  0.38042721,   3.01360733, -12.74118502,  -5.01509479,\n",
       "          1.76767673],\n",
       "       [ -5.82792865,  -8.20639162,  -1.84487229,   3.49475672,\n",
       "         -3.20344529],\n",
       "       [ -3.98489229,  -8.18057919,   2.88403861,   2.33115002,\n",
       "         -3.04778381],\n",
       "       [ -4.84320594,  -8.57524776,   2.18764809,   5.13611857,\n",
       "         -3.44951926],\n",
       "       [ -2.18894887,   1.01859245,  -9.51273313,  -6.54720909,\n",
       "          3.87407001],\n",
       "       [ -0.96822499,   0.89988956,  -5.667545  ,  -4.76226581,\n",
       "          5.56298818],\n",
       "       [  5.95610705,  -7.06372236,   7.83141662,   4.48753087,\n",
       "         -1.00237499],\n",
       "       [  4.07920591,   0.73561812,  -9.01591005,  -5.34339015,\n",
       "          5.56876477],\n",
       "       [  7.22686053,  -1.36479678,   8.87842121,   3.19523803,\n",
       "         -7.94624862],\n",
       "       [ -4.59861772,   4.15396354,  -9.11009911,  -7.6978166 ,\n",
       "          3.00157949],\n",
       "       [ -4.30451002,  -8.76403147,   3.89053012,   3.51635851,\n",
       "         -4.89062494],\n",
       "       [  8.12843927,  -3.92675678,   9.73924226,   5.76643422,\n",
       "         -4.22203043],\n",
       "       [  0.53296864,  -1.40620343,  -4.448002  ,   4.63196247,\n",
       "          7.21976895],\n",
       "       [ -2.41676741,  -0.12539609,  -6.5454475 ,  -6.2357047 ,\n",
       "          1.91630671],\n",
       "       [  8.37015374,  -2.51747741,   7.61798239,   4.58482909,\n",
       "         -9.59207661],\n",
       "       [  0.11778058,   4.83651037,  -9.00188694,  -2.97559276,\n",
       "          1.91766533],\n",
       "       [  0.94634309,   1.76664731, -11.19951226,  -2.55276744,\n",
       "          1.95703302],\n",
       "       [  1.71751862,   1.94294167, -11.93524978,  -6.30409123,\n",
       "          2.39250023],\n",
       "       [ -0.71671682,   3.58960085,  -7.26737622,  -8.04640057,\n",
       "          1.85230075],\n",
       "       [ -1.22559173,   1.96348846,  -8.99279577,  -5.01407009,\n",
       "          0.89586303],\n",
       "       [ -6.0021469 , -10.17321193,   1.41949175,   5.93840429,\n",
       "         -7.10644351],\n",
       "       [  8.23249919,  -5.16880879,   8.62360289,   6.72276207,\n",
       "         -8.35167971],\n",
       "       [ -4.81398062,  -6.29915697,   1.22111225,   5.26130825,\n",
       "         -6.50076294],\n",
       "       [  0.72390362,  -1.06240593,  -7.22810399,   6.39006207,\n",
       "          9.25476562],\n",
       "       [ -5.65656249,  -6.00152778,  -1.28988328,   1.23592403,\n",
       "         -6.60724763],\n",
       "       [  0.37679306,   0.329897  ,  -8.11525377,   4.30155696,\n",
       "          6.82059733],\n",
       "       [  6.54813787,  -1.53409459,   7.48659722,   5.01586954,\n",
       "         -8.03609421],\n",
       "       [ -6.33671689, -11.15846065,   1.42224698,   4.63792689,\n",
       "         -2.49879507],\n",
       "       [ -2.56685316,  -1.21569314,  -6.84006846,   4.8308571 ,\n",
       "          8.95518636],\n",
       "       [  8.0204456 ,  -3.30509027,   6.18805432,   6.12511785,\n",
       "         -6.21618157],\n",
       "       [ -6.16820273, -11.91112659,   3.51053863,   4.22581832,\n",
       "         -4.57892115],\n",
       "       [ -6.18889801,  -9.6229294 ,   1.06174341,   3.14631445,\n",
       "         -4.1111934 ],\n",
       "       [  4.73192435,  -3.86131454,   7.47647481,   4.95790847,\n",
       "         -4.69938278],\n",
       "       [  5.99778657,  -0.34091981,   6.32731401,   4.03089879,\n",
       "         -6.29338607],\n",
       "       [ -7.81067089,  -7.10160727,   1.29426829,   5.00224987,\n",
       "         -4.12698569],\n",
       "       [ -3.40416142,  -7.47398406,   0.96785126,   3.1581715 ,\n",
       "         -4.10785914],\n",
       "       [ -8.57968311, -10.63711759,   2.42717786,   2.38176382,\n",
       "         -4.92764905],\n",
       "       [ -1.86380854,   0.19933789,  -9.18121118,   7.6353828 ,\n",
       "          4.34663349],\n",
       "       [ -5.03892338,  -7.27801313,   1.63111861,   6.45375549,\n",
       "         -3.34259766],\n",
       "       [  5.20750601,  -3.64055972,   5.30409625,   6.69973303,\n",
       "         -3.76796824],\n",
       "       [  0.3639269 ,  -6.15545346,  -2.55185219,   2.29058092,\n",
       "         10.40795768],\n",
       "       [ -0.12829033,   1.57660948,  -7.05142785,  -5.14013556,\n",
       "          6.15302119],\n",
       "       [ -6.87132037,  -8.62120581,   0.72458816,   1.35639864,\n",
       "         -4.85721992],\n",
       "       [ -6.01417758,  -8.27895486,  -0.6655478 ,   4.66296692,\n",
       "         -2.92646285],\n",
       "       [  0.67140233,   4.97511492,  -4.73977437,  -5.33925088,\n",
       "          4.25033744],\n",
       "       [ -0.12544196,   0.37273527,  -9.00392334,  -6.20816203,\n",
       "          4.29566017],\n",
       "       [  4.31248134,   0.82155656,   6.76966806,   1.34394454,\n",
       "         -3.77113849],\n",
       "       [  1.12888137,  -5.12249092,  -8.01390012,   6.18641295,\n",
       "          6.82233314],\n",
       "       [  0.31956451,  -3.68836432,  -5.87635719,   2.73219994,\n",
       "          9.04841304],\n",
       "       [  2.05595679,  -2.67082305,   7.27300415,   2.75939314,\n",
       "         -3.11251062],\n",
       "       [  9.91611903,  -6.2238122 ,   7.93272428,   4.03450295,\n",
       "         -6.75647   ],\n",
       "       [  7.20503252,  -3.27429696,   5.60262118,   1.95595561,\n",
       "         -8.22345272],\n",
       "       [  9.00035113,  -6.52165046,   8.25788314,   3.99795933,\n",
       "         -8.75892997],\n",
       "       [ -4.12040694,  -9.01412331,   5.44562024,   5.89225149,\n",
       "         -3.88309141],\n",
       "       [  4.53744351,  -4.58779402,  -8.85269926,   1.37160182,\n",
       "         12.58834336],\n",
       "       [  5.83417594,  -2.31250094,   8.28641827,   5.54446162,\n",
       "         -9.89583418],\n",
       "       [  1.27937699,  -5.01635757,  -7.41148075,   2.69762491,\n",
       "          8.14160547],\n",
       "       [ -0.94961164, -10.48325824,   2.49951144,   6.68607852,\n",
       "         -4.89475633],\n",
       "       [  7.09483375,  -3.5809342 ,   7.51999676,   3.2570622 ,\n",
       "         -7.74507423],\n",
       "       [ -1.21138032,   4.18893447,  -8.23114069,  -7.5383892 ,\n",
       "          2.68209318],\n",
       "       [  6.00564593,  -3.88943018,   5.29262653,   3.01610137,\n",
       "         -4.43511592],\n",
       "       [ -0.04245358,   5.90253407, -10.41558327,  -5.67545836,\n",
       "          1.48143396],\n",
       "       [  1.54166765,  -3.31717851,  -8.23378519,   6.3222982 ,\n",
       "          7.33869399],\n",
       "       [  9.96556563,  -4.37798923,  10.44855497,   1.75446011,\n",
       "         -5.72488266],\n",
       "       [  8.71981745,  -2.01452794,   7.0759891 ,   1.92318176,\n",
       "         -7.58359876],\n",
       "       [  1.91043951,  -3.04465407,  -6.62348022,   5.31997254,\n",
       "         12.13986559],\n",
       "       [ -7.48569081,  -6.71213828,   3.51087062,   1.32472253,\n",
       "         -3.81855214],\n",
       "       [ -7.21591378,  -6.93066089,   0.99011762,   6.72235441,\n",
       "         -6.14552492],\n",
       "       [ -3.15070375,  -6.81276829,   5.91061451,   6.66656784,\n",
       "         -7.60523745],\n",
       "       [  0.4747146 ,   0.66600773,  -9.33392485, -10.37677045,\n",
       "          3.20242125],\n",
       "       [  2.56143526,  -0.5624957 , -12.86493135,  -7.25375318,\n",
       "          0.70663311],\n",
       "       [  3.49301764,  -3.96735967,  -7.60776991,   6.83398541,\n",
       "         11.13694091],\n",
       "       [  0.09054151,  -0.98981338,  -9.59125267,  -5.31214735,\n",
       "          1.16911341],\n",
       "       [ -0.99114871,  -1.07590444,  -6.76202358,  -4.83894219,\n",
       "         -0.14864249],\n",
       "       [ -3.82808888,  -9.43334809,   3.14644128,   2.28208548,\n",
       "         -4.68006706],\n",
       "       [  8.93323579,  -5.74770081,   5.56588507,   6.72899385,\n",
       "         -5.03998263],\n",
       "       [  6.93361105,  -5.01033734,  10.30470387,   4.84443508,\n",
       "         -7.23030165],\n",
       "       [  4.53442786,  -0.79372217,  -4.93709082,   2.15216473,\n",
       "         10.78353336],\n",
       "       [  2.03601623,  -4.68302924,  -7.23408618,   4.73269317,\n",
       "          8.70581966],\n",
       "       [ -4.07940541,  -8.01835476,   0.15881569,   6.80485936,\n",
       "         -4.87784427],\n",
       "       [-10.92777629,  -5.2971219 ,   1.78320748,   7.69002321,\n",
       "         -2.76414997],\n",
       "       [  1.11142781,   3.68117838, -10.2367325 ,  -6.09039467,\n",
       "          4.44818392],\n",
       "       [  6.96717039,  -4.675187  ,   7.37521204,   4.42914229,\n",
       "         -5.96664083],\n",
       "       [ -0.75999209,  -2.72341193,  -5.56449651,   9.19651296,\n",
       "          8.4235258 ],\n",
       "       [ -4.60823231,  -4.64201789,   0.82177704,   9.57986048,\n",
       "         -4.30115694],\n",
       "       [  1.57484485,  -3.85371735,  -7.13176364,   4.51153658,\n",
       "         10.51286047],\n",
       "       [  6.99236702,  -3.0265061 ,   3.90066592,   5.41036387,\n",
       "         -4.94428859],\n",
       "       [  2.08426798,   0.71452208,  -8.02054658,  -7.8456836 ,\n",
       "          4.76186477],\n",
       "       [  1.69524848,  -4.57206987,  -5.58315747,   5.2072562 ,\n",
       "         11.13582396],\n",
       "       [  1.54204589,   1.10004996,  -8.02626398,  -7.25943151,\n",
       "          2.96876636],\n",
       "       [  0.2711301 ,   2.58303824,  -5.55179187,  -7.66803282,\n",
       "          2.34595402]])"
      ]
     },
     "execution_count": 18,
     "metadata": {},
     "output_type": "execute_result"
    }
   ],
   "source": [
    "data[0]"
   ]
  },
  {
   "cell_type": "markdown",
   "metadata": {},
   "source": [
    "## Visualize Data"
   ]
  },
  {
   "cell_type": "code",
   "execution_count": 9,
   "metadata": {},
   "outputs": [
    {
     "data": {
      "text/plain": [
       "<matplotlib.collections.PathCollection at 0x1fed4bd4780>"
      ]
     },
     "execution_count": 9,
     "metadata": {},
     "output_type": "execute_result"
    },
    {
     "data": {
      "image/png": "[encoded data removed]",
      "text/plain": [
       "<Figure size 432x288 with 1 Axes>"
      ]
     },
     "metadata": {
      "needs_background": "light"
     },
     "output_type": "display_data"
    }
   ],
   "source": [
    "plt.scatter(data[0][:,0],data[0][:,1],c = data[1],cmap='rainbow')"
   ]
  },
  {
   "cell_type": "markdown",
   "metadata": {},
   "source": [
    "## Creating the Clusters"
   ]
  },
  {
   "cell_type": "code",
   "execution_count": 19,
   "metadata": {},
   "outputs": [],
   "source": [
    "from sklearn.cluster import KMeans"
   ]
  },
  {
   "cell_type": "code",
   "execution_count": 21,
   "metadata": {},
   "outputs": [],
   "source": [
    "kmeans = KMeans(n_clusters= 5)"
   ]
  },
  {
   "cell_type": "code",
   "execution_count": 22,
   "metadata": {},
   "outputs": [
    {
     "data": {
      "text/plain": [
       "KMeans(algorithm='auto', copy_x=True, init='k-means++', max_iter=300,\n",
       "    n_clusters=5, n_init=10, n_jobs=None, precompute_distances='auto',\n",
       "    random_state=None, tol=0.0001, verbose=0)"
      ]
     },
     "execution_count": 22,
     "metadata": {},
     "output_type": "execute_result"
    }
   ],
   "source": [
    "kmeans.fit(data[0])"
   ]
  },
  {
   "cell_type": "code",
   "execution_count": 23,
   "metadata": {},
   "outputs": [
    {
     "data": {
      "text/plain": [
       "array([[ 0.06173463,  1.98571235, -9.14530303, -6.33908046,  3.41219081],\n",
       "       [-5.73145027, -8.17229249,  2.47686503,  4.87270264, -4.30056202],\n",
       "       [ 6.23699115, -4.12255959,  7.8750069 ,  4.68722963, -6.01794278],\n",
       "       [ 2.0204817 , -3.80770312, -6.57054652,  4.61161769, 10.48169103],\n",
       "       [ 0.49333965, -1.90387164, -6.38440092,  6.7712531 ,  7.96770165]])"
      ]
     },
     "execution_count": 23,
     "metadata": {},
     "output_type": "execute_result"
    }
   ],
   "source": [
    "kmeans.cluster_centers_"
   ]
  },
  {
   "cell_type": "code",
   "execution_count": 24,
   "metadata": {},
   "outputs": [
    {
     "data": {
      "text/plain": [
       "array([0, 2, 1, 1, 0, 0, 1, 2, 2, 2, 2, 2, 2, 3, 2, 2, 1, 1, 0, 2, 2, 3,\n",
       "       0, 0, 4, 0, 1, 1, 0, 2, 3, 3, 0, 4, 0, 0, 0, 0, 4, 1, 1, 0, 1, 0,\n",
       "       4, 1, 2, 3, 4, 1, 1, 2, 4, 4, 2, 2, 2, 0, 1, 2, 0, 1, 1, 3, 1, 3,\n",
       "       0, 0, 0, 1, 2, 0, 3, 1, 3, 4, 4, 2, 2, 0, 4, 3, 2, 4, 4, 0, 2, 1,\n",
       "       3, 0, 1, 2, 3, 2, 3, 1, 2, 3, 1, 3, 4, 3, 1, 3, 3, 0, 3, 1, 0, 0,\n",
       "       1, 1, 1, 0, 0, 2, 0, 2, 0, 1, 2, 4, 0, 2, 0, 0, 0, 0, 0, 1, 2, 1,\n",
       "       4, 1, 4, 2, 1, 4, 2, 1, 1, 2, 2, 1, 1, 1, 4, 1, 2, 3, 0, 1, 1, 0,\n",
       "       0, 2, 4, 3, 2, 2, 2, 2, 1, 3, 2, 3, 1, 2, 0, 2, 0, 4, 2, 2, 3, 1,\n",
       "       1, 1, 0, 0, 3, 0, 0, 1, 2, 2, 3, 3, 1, 1, 0, 2, 4, 1, 3, 2, 0, 3,\n",
       "       0, 0])"
      ]
     },
     "execution_count": 24,
     "metadata": {},
     "output_type": "execute_result"
    }
   ],
   "source": [
    "kmeans.labels_"
   ]
  },
  {
   "cell_type": "code",
   "execution_count": 25,
   "metadata": {},
   "outputs": [
    {
     "data": {
      "text/plain": [
       "<matplotlib.collections.PathCollection at 0x1fed526e9e8>"
      ]
     },
     "execution_count": 25,
     "metadata": {},
     "output_type": "execute_result"
    },
    {
     "data": {
      "image/png": "[encoded data removed]",
      "text/plain": [
       "<Figure size 720x432 with 2 Axes>"
      ]
     },
     "metadata": {
      "needs_background": "light"
     },
     "output_type": "display_data"
    }
   ],
   "source": [
    "f, (ax1, ax2) = plt.subplots(1, 2, sharey=True,figsize=(10,6))\n",
    "ax1.set_title('K Means')\n",
    "ax1.scatter(data[0][:,0],data[0][:,1],c=kmeans.labels_,cmap='rainbow')\n",
    "ax2.set_title(\"Original\")\n",
    "ax2.scatter(data[0][:,0],data[0][:,1],c=data[1],cmap='rainbow')\n",
    "\n"
   ]
  },
  {
   "cell_type": "markdown",
   "metadata": {},
   "source": [
    "You should note, the colors are meaningless in reference between the two plots."
   ]
  }
 ],
 "metadata": {
  "kernelspec": {
   "display_name": "Python 3",
   "language": "python",
   "name": "python3"
  },
  "language_info": {
   "codemirror_mode": {
    "name": "ipython",
    "version": 3
   },
   "file_extension": ".py",
   "mimetype": "text/x-python",
   "name": "python",
   "nbconvert_exporter": "python",
   "pygments_lexer": "ipython3",
   "version": "3.7.3"
  }
 },
 "nbformat": 4,
 "nbformat_minor": 1
}
